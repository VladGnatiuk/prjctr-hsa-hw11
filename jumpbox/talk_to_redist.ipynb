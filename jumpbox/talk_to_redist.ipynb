{
 "cells": [
  {
   "cell_type": "code",
   "execution_count": 21,
   "id": "33d38c97-b765-4e87-a866-e065742082d5",
   "metadata": {},
   "outputs": [],
   "source": [
    "import numpy as np\n",
    "import os\n",
    "import time\n",
    "import requests\n",
    "import json\n",
    "import redis"
   ]
  },
  {
   "cell_type": "code",
   "execution_count": 22,
   "id": "e24330e9",
   "metadata": {},
   "outputs": [
    {
     "name": "stdout",
     "output_type": "stream",
     "text": [
      "Current Redis memory usage: 1.92M\n",
      "Peak memory usage: 1.99M\n",
      "Memory limit: 2.00M\n"
     ]
    }
   ],
   "source": [
    "redis_client = redis.Redis(host='redisbox', port=6379, decode_responses=True)\n",
    "\n",
    "memory_info = redis_client.info('memory')\n",
    "print(f\"Current Redis memory usage: {memory_info['used_memory_human']}\")\n",
    "print(f\"Peak memory usage: {memory_info['used_memory_peak_human']}\")\n",
    "print(f\"Memory limit: {memory_info['maxmemory_human']}\")"
   ]
  },
  {
   "cell_type": "code",
   "execution_count": null,
   "id": "2c493d08",
   "metadata": {},
   "outputs": [],
   "source": []
  },
  {
   "cell_type": "code",
   "execution_count": 26,
   "id": "7e7c9e0f",
   "metadata": {},
   "outputs": [
    {
     "name": "stdout",
     "output_type": "stream",
     "text": [
      "Current policy: {'maxmemory-policy': 'noeviction'}\n",
      "Current policy: {'maxmemory-policy': 'allkeys-lru'}\n",
      "Current policy: {'maxmemory-policy': 'allkeys-random'}\n",
      "Current policy: {'maxmemory-policy': 'volatile-lru'}\n",
      "Current policy: {'maxmemory-policy': 'volatile-random'}\n",
      "Current policy: {'maxmemory-policy': 'volatile-ttl'}\n"
     ]
    }
   ],
   "source": [
    "def print_eviction_policy():\n",
    "    current_policy = redis_client.config_get('maxmemory-policy')\n",
    "    print(f\"Current policy: {current_policy}\")\n",
    "\n",
    "redis_client.config_set('maxmemory-policy', 'noeviction')\n",
    "print_eviction_policy()\n",
    "\n",
    "redis_client.config_set('maxmemory-policy', 'allkeys-lru')\n",
    "print_eviction_policy()\n",
    "\n",
    "redis_client.config_set('maxmemory-policy', 'allkeys-random')\n",
    "print_eviction_policy()\n",
    "\n",
    "redis_client.config_set('maxmemory-policy', 'volatile-lru')\n",
    "print_eviction_policy()\n",
    "\n",
    "redis_client.config_set('maxmemory-policy', 'volatile-random')\n",
    "print_eviction_policy()\n",
    "\n",
    "redis_client.config_set('maxmemory-policy', 'volatile-ttl')\n",
    "print_eviction_policy()\n"
   ]
  },
  {
   "cell_type": "code",
   "execution_count": 19,
   "id": "8417b3f1",
   "metadata": {},
   "outputs": [
    {
     "name": "stdout",
     "output_type": "stream",
     "text": [
      "Error writing test_key_0 to Redis: command not allowed when used memory > 'maxmemory'.\n",
      "Error writing test_key_1 to Redis: command not allowed when used memory > 'maxmemory'.\n",
      "Error writing test_key_2 to Redis: command not allowed when used memory > 'maxmemory'.\n",
      "Error writing test_key_3 to Redis: command not allowed when used memory > 'maxmemory'.\n",
      "Error writing test_key_4 to Redis: command not allowed when used memory > 'maxmemory'.\n",
      "Error writing test_key_5 to Redis: command not allowed when used memory > 'maxmemory'.\n",
      "Error writing test_key_6 to Redis: command not allowed when used memory > 'maxmemory'.\n",
      "Error writing test_key_7 to Redis: command not allowed when used memory > 'maxmemory'.\n",
      "Error writing test_key_8 to Redis: command not allowed when used memory > 'maxmemory'.\n",
      "Error writing test_key_9 to Redis: command not allowed when used memory > 'maxmemory'.\n"
     ]
    }
   ],
   "source": [
    "for i in range(10):\n",
    "    key = 'test_key_' + str(i)\n",
    "    try:\n",
    "        write_result = redis_client.set(key, 'x' * 1024 * 100)  # 1KB of 'x' characters\n",
    "        print(f\"Write result for {key}: {write_result}\")\n",
    "    except Exception as e:\n",
    "        print(f\"Error writing {key} to Redis: {e}\")\n"
   ]
  },
  {
   "cell_type": "code",
   "execution_count": null,
   "id": "3e1be730",
   "metadata": {},
   "outputs": [],
   "source": [
    "result = redis_client.get('test_key')\n",
    "print(f\"Retrieved value: {result}\")\n"
   ]
  }
 ],
 "metadata": {
  "kernelspec": {
   "display_name": "Python 3 (ipykernel)",
   "language": "python",
   "name": "python3"
  },
  "language_info": {
   "codemirror_mode": {
    "name": "ipython",
    "version": 3
   },
   "file_extension": ".py",
   "mimetype": "text/x-python",
   "name": "python",
   "nbconvert_exporter": "python",
   "pygments_lexer": "ipython3",
   "version": "3.11.11"
  }
 },
 "nbformat": 4,
 "nbformat_minor": 5
}
